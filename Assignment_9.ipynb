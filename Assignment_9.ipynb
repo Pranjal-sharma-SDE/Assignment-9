{
  "nbformat": 4,
  "nbformat_minor": 0,
  "metadata": {
    "colab": {
      "provenance": [],
      "authorship_tag": "ABX9TyOvibESmxeC3HUddwLdTL3P",
      "include_colab_link": true
    },
    "kernelspec": {
      "name": "python3",
      "display_name": "Python 3"
    },
    "language_info": {
      "name": "python"
    }
  },
  "cells": [
    {
      "cell_type": "markdown",
      "metadata": {
        "id": "view-in-github",
        "colab_type": "text"
      },
      "source": [
        "<a href=\"https://colab.research.google.com/github/Pranjal-sharma-SDE/Assignment-9/blob/main/Assignment_9.ipynb\" target=\"_parent\"><img src=\"https://colab.research.google.com/assets/colab-badge.svg\" alt=\"Open In Colab\"/></a>"
      ]
    },
    {
      "cell_type": "code",
      "execution_count": null,
      "metadata": {
        "id": "yCSulqs8eK7Q"
      },
      "outputs": [],
      "source": []
    },
    {
      "cell_type": "markdown",
      "source": [
        "# Q-2"
      ],
      "metadata": {
        "id": "fqsy3hVueMtC"
      }
    },
    {
      "cell_type": "code",
      "source": [
        "multiply = lambda x, y: x * y\n",
        "\n",
        "result = multiply(5, 3)\n",
        "print(result)  # Output: 15\n"
      ],
      "metadata": {
        "colab": {
          "base_uri": "https://localhost:8080/"
        },
        "id": "5YibBSv-ePEh",
        "outputId": "37490618-dde4-4472-8428-025cde74189e"
      },
      "execution_count": null,
      "outputs": [
        {
          "output_type": "stream",
          "name": "stdout",
          "text": [
            "15\n"
          ]
        }
      ]
    },
    {
      "cell_type": "markdown",
      "source": [
        "# Q-5"
      ],
      "metadata": {
        "id": "m6r5hgq2gyVz"
      }
    },
    {
      "cell_type": "code",
      "source": [
        "def multiplier(n):\n",
        "    return lambda x: x * n\n",
        "\n",
        "multiply_by_2 = multiplier(2)\n",
        "multiply_by_3 = multiplier(3)\n",
        "\n",
        "print(multiply_by_2(5))  # Output: 10\n",
        "print(multiply_by_3(5))  # Output: 15\n"
      ],
      "metadata": {
        "colab": {
          "base_uri": "https://localhost:8080/"
        },
        "id": "RfCVaLc5eRkw",
        "outputId": "1d2fe4c1-fae6-496e-8f82-2b6e56459a80"
      },
      "execution_count": null,
      "outputs": [
        {
          "output_type": "stream",
          "name": "stdout",
          "text": [
            "10\n",
            "15\n"
          ]
        }
      ]
    },
    {
      "cell_type": "markdown",
      "source": [
        "# Q-6"
      ],
      "metadata": {
        "id": "tlqSR-jftxxT"
      }
    },
    {
      "cell_type": "code",
      "source": [
        "square=lambda x:x**2\n",
        "\n",
        "square(9)"
      ],
      "metadata": {
        "colab": {
          "base_uri": "https://localhost:8080/"
        },
        "id": "nFxKY-WGg0Kp",
        "outputId": "0b36bcca-a93c-4b62-dbb0-3dc35876431e"
      },
      "execution_count": null,
      "outputs": [
        {
          "output_type": "execute_result",
          "data": {
            "text/plain": [
              "81"
            ]
          },
          "metadata": {},
          "execution_count": 1
        }
      ]
    },
    {
      "cell_type": "markdown",
      "source": [
        "# Q-7"
      ],
      "metadata": {
        "id": "ZPD1Nulewqxb"
      }
    },
    {
      "cell_type": "code",
      "source": [
        "List=[1,2,3,6,81]\n",
        "\n",
        "maximum= lambda x:max(x)\n",
        "\n",
        "maximum(List)\n",
        "# print(maximum)  # Output: 81"
      ],
      "metadata": {
        "colab": {
          "base_uri": "https://localhost:8080/"
        },
        "id": "-RMstNbZwiu-",
        "outputId": "fdb6008b-9b70-4975-f22f-f43ad3574a1d"
      },
      "execution_count": null,
      "outputs": [
        {
          "output_type": "execute_result",
          "data": {
            "text/plain": [
              "81"
            ]
          },
          "metadata": {},
          "execution_count": 4
        }
      ]
    },
    {
      "cell_type": "markdown",
      "source": [
        "# Q-8"
      ],
      "metadata": {
        "id": "dCR19Ltoy2wf"
      }
    },
    {
      "cell_type": "code",
      "source": [
        "List=[1,2,3,6,81]\n",
        "\n",
        "sorted=list(filter( lambda x:x%2==0,List))\n",
        "sorted"
      ],
      "metadata": {
        "colab": {
          "base_uri": "https://localhost:8080/"
        },
        "id": "pukZus41x0Pq",
        "outputId": "a68856c1-29c9-45a0-8d3c-dbaaec67e584"
      },
      "execution_count": null,
      "outputs": [
        {
          "output_type": "execute_result",
          "data": {
            "text/plain": [
              "[2, 6]"
            ]
          },
          "metadata": {},
          "execution_count": 8
        }
      ]
    },
    {
      "cell_type": "markdown",
      "source": [
        "# Q-9"
      ],
      "metadata": {
        "id": "InJFpwmFzcWg"
      }
    },
    {
      "cell_type": "code",
      "source": [
        "\n",
        "string= ['apple', 'banana', 'cherry', 'date', 'elderberry']\n",
        "\n",
        "sorted_x=sorted(string,key= lambda x:len(x))\n",
        "sorted_x"
      ],
      "metadata": {
        "id": "MRHhKDSZzIAE"
      },
      "execution_count": 1,
      "outputs": []
    },
    {
      "cell_type": "markdown",
      "source": [
        "# Q-10"
      ],
      "metadata": {
        "id": "4hMT4n2nq4-O"
      }
    },
    {
      "cell_type": "code",
      "source": [
        "list1=[1,2,3,4,5]\n",
        "list2=[1,2,6,7,8,9,4,5]\n",
        "\n",
        "intersection= lambda l1,l2: list(filter(lambda x: x in l1,l2))\n",
        "result= intersection(list1,list2)\n",
        "\n",
        "print(result)"
      ],
      "metadata": {
        "id": "zYWJsDaIz0_B",
        "colab": {
          "base_uri": "https://localhost:8080/"
        },
        "outputId": "4ea0f72f-ffa2-47fa-c8ce-a9ce6081029c"
      },
      "execution_count": 5,
      "outputs": [
        {
          "output_type": "stream",
          "name": "stdout",
          "text": [
            "[1, 2, 4, 5]\n"
          ]
        }
      ]
    },
    {
      "cell_type": "markdown",
      "source": [
        "# Q-11"
      ],
      "metadata": {
        "id": "Izwdy_KzsDiB"
      }
    },
    {
      "cell_type": "code",
      "source": [
        "def fac(x):\n",
        "  if(x>0):\n",
        "    if x in [0,1]:\n",
        "      return 1\n",
        "    else:\n",
        "      return fac(x-1)*x\n",
        "  else:\n",
        "    return 0\n",
        "\n",
        "fac(3)\n",
        "\n",
        "\n",
        ""
      ],
      "metadata": {
        "colab": {
          "base_uri": "https://localhost:8080/"
        },
        "id": "Ljb2luIYrVSt",
        "outputId": "2f2cca81-804e-41bb-d7d1-ff5a7a2f73ee"
      },
      "execution_count": 10,
      "outputs": [
        {
          "output_type": "execute_result",
          "data": {
            "text/plain": [
              "6"
            ]
          },
          "metadata": {},
          "execution_count": 10
        }
      ]
    },
    {
      "cell_type": "markdown",
      "source": [
        "# Q-12"
      ],
      "metadata": {
        "id": "msvIFrf6tYKN"
      }
    },
    {
      "cell_type": "code",
      "source": [
        "def fab(x):\n",
        "  if(x>0):\n",
        "    if x in [0,1]:\n",
        "      return x\n",
        "    else:\n",
        "      return fab(x-1)+fab(x-2)\n",
        "  else:\n",
        "    return 0\n",
        "\n",
        "fab(5)"
      ],
      "metadata": {
        "colab": {
          "base_uri": "https://localhost:8080/"
        },
        "id": "SADdq873s1_W",
        "outputId": "ac9a001f-df20-492c-e6f4-cd4edeb1bf42"
      },
      "execution_count": 17,
      "outputs": [
        {
          "output_type": "execute_result",
          "data": {
            "text/plain": [
              "5"
            ]
          },
          "metadata": {},
          "execution_count": 17
        }
      ]
    },
    {
      "cell_type": "markdown",
      "source": [
        "# Q-13"
      ],
      "metadata": {
        "id": "xmRiZEUIuaig"
      }
    },
    {
      "cell_type": "code",
      "source": [
        "def sum(x):\n",
        "  if len(x)==0:\n",
        "    return 0\n",
        "  else:\n",
        "    return x[0]+ sum(x[1:])\n",
        "\n",
        "sum(list1)"
      ],
      "metadata": {
        "colab": {
          "base_uri": "https://localhost:8080/"
        },
        "id": "GBRo2YlQtsns",
        "outputId": "18c54a3d-ffb3-40f7-d99d-ba0bea73937a"
      },
      "execution_count": 19,
      "outputs": [
        {
          "output_type": "execute_result",
          "data": {
            "text/plain": [
              "15"
            ]
          },
          "metadata": {},
          "execution_count": 19
        }
      ]
    },
    {
      "cell_type": "markdown",
      "source": [
        "# Q-14"
      ],
      "metadata": {
        "id": "H_FJKdEsyKI6"
      }
    },
    {
      "cell_type": "code",
      "source": [
        "def is_palindrome(string):\n",
        "    if len(string) <= 1:\n",
        "        return True\n",
        "    elif string[0] != string[-1]:\n",
        "        return False\n",
        "    else:\n",
        "        return is_palindrome(string[1:-1])\n",
        "\n",
        "# Example usage:\n",
        "word = \"level\"\n",
        "result = is_palindrome(word)\n",
        "print(result)\n"
      ],
      "metadata": {
        "colab": {
          "base_uri": "https://localhost:8080/"
        },
        "id": "94a4NF_yvIwB",
        "outputId": "f3c31e24-694e-47fb-a548-36d00ab13fb0"
      },
      "execution_count": 1,
      "outputs": [
        {
          "output_type": "stream",
          "name": "stdout",
          "text": [
            "True\n"
          ]
        }
      ]
    },
    {
      "cell_type": "markdown",
      "source": [
        "# Q- 15"
      ],
      "metadata": {
        "id": "8f5GGUG4y9tY"
      }
    },
    {
      "cell_type": "code",
      "source": [
        "def gcd(a,b):\n",
        "  if b==0:\n",
        "    return a\n",
        "  else:\n",
        "    return gcd(b,a%b)\n",
        "\n",
        "gcd(12,18)"
      ],
      "metadata": {
        "colab": {
          "base_uri": "https://localhost:8080/"
        },
        "id": "x7tBLFIoyesF",
        "outputId": "46c9f231-1997-4ec6-a6e2-cb42fbe843c0"
      },
      "execution_count": 3,
      "outputs": [
        {
          "output_type": "execute_result",
          "data": {
            "text/plain": [
              "6"
            ]
          },
          "metadata": {},
          "execution_count": 3
        }
      ]
    },
    {
      "cell_type": "code",
      "source": [],
      "metadata": {
        "id": "IbPQkXI4zUdr"
      },
      "execution_count": null,
      "outputs": []
    }
  ]
}